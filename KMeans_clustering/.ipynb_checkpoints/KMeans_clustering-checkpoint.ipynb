{
 "cells": [
  {
   "cell_type": "code",
   "execution_count": 1,
   "metadata": {},
   "outputs": [],
   "source": [
    "import numpy as np\n",
    "import pandas as pd\n",
    "from gensim.models import Word2Vec\n",
    "from sklearn.cluster import KMeans"
   ]
  },
  {
   "cell_type": "code",
   "execution_count": 2,
   "metadata": {},
   "outputs": [],
   "source": [
    "word_vectors = Word2Vec.load(\"../preprocessing_and_embeddings/word2vec.model\").wv"
   ]
  },
  {
   "cell_type": "code",
   "execution_count": 3,
   "metadata": {},
   "outputs": [],
   "source": [
    "model = KMeans(n_clusters=2, max_iter=1000, random_state=True, n_init=50).fit(X=word_vectors.vectors.astype('double'))"
   ]
  },
  {
   "cell_type": "code",
   "execution_count": 4,
   "metadata": {},
   "outputs": [
    {
     "data": {
      "text/plain": [
       "[('bardzon', 0.9765151739120483),\n",
       " ('przyzwoicie_cenowo', 0.9746824502944946),\n",
       " ('najlpszym_porzadku', 0.9731011986732483),\n",
       " ('pelen_profesjonaliz', 0.9728318452835083),\n",
       " ('suuuuuuuuuuuuuper', 0.9695131182670593),\n",
       " ('ipolecam', 0.9662575721740723),\n",
       " ('superszybko_supersprawnie', 0.9654124975204468),\n",
       " ('przytepne', 0.9635419249534607),\n",
       " ('pelen_profesjonalim', 0.9629452228546143),\n",
       " ('splep', 0.9622358679771423)]"
      ]
     },
     "execution_count": 4,
     "metadata": {},
     "output_type": "execute_result"
    }
   ],
   "source": [
    "word_vectors.similar_by_vector(model.cluster_centers_[1], topn=10, restrict_vocab=None)"
   ]
  },
  {
   "cell_type": "code",
   "execution_count": 5,
   "metadata": {},
   "outputs": [],
   "source": [
    "positive_cluster_index = 1\n",
    "positive_cluster_center = model.cluster_centers_[positive_cluster_index]\n",
    "negative_cluster_center = model.cluster_centers_[1-positive_cluster_index]"
   ]
  },
  {
   "cell_type": "code",
   "execution_count": 6,
   "metadata": {},
   "outputs": [],
   "source": [
    "words = pd.DataFrame(word_vectors.index_to_key)\n",
    "words.columns = ['words']\n",
    "words['vectors'] = words.words.apply(lambda x: word_vectors[f'{x}'])\n",
    "words['cluster'] = words.vectors.apply(lambda x: model.predict([np.array(x)]))\n",
    "words.cluster = words.cluster.apply(lambda x: x[0])"
   ]
  },
  {
   "cell_type": "code",
   "execution_count": 7,
   "metadata": {},
   "outputs": [],
   "source": [
    "words['cluster_value'] = [1 if i==positive_cluster_index else -1 for i in words.cluster]\n",
    "words['closeness_score'] = words.apply(lambda x: 1/(model.transform([x.vectors]).min()), axis=1)\n",
    "words['sentiment_coeff'] = words.closeness_score * words.cluster_value"
   ]
  },
  {
   "cell_type": "code",
   "execution_count": 8,
   "metadata": {},
   "outputs": [
    {
     "data": {
      "text/html": [
       "<div>\n",
       "<style scoped>\n",
       "    .dataframe tbody tr th:only-of-type {\n",
       "        vertical-align: middle;\n",
       "    }\n",
       "\n",
       "    .dataframe tbody tr th {\n",
       "        vertical-align: top;\n",
       "    }\n",
       "\n",
       "    .dataframe thead th {\n",
       "        text-align: right;\n",
       "    }\n",
       "</style>\n",
       "<table border=\"1\" class=\"dataframe\">\n",
       "  <thead>\n",
       "    <tr style=\"text-align: right;\">\n",
       "      <th></th>\n",
       "      <th>words</th>\n",
       "      <th>vectors</th>\n",
       "      <th>cluster</th>\n",
       "      <th>cluster_value</th>\n",
       "      <th>closeness_score</th>\n",
       "      <th>sentiment_coeff</th>\n",
       "    </tr>\n",
       "  </thead>\n",
       "  <tbody>\n",
       "    <tr>\n",
       "      <th>0</th>\n",
       "      <td>i</td>\n",
       "      <td>[0.104002856, -0.03994884, 0.12761831, 0.09229...</td>\n",
       "      <td>1</td>\n",
       "      <td>1</td>\n",
       "      <td>1.041828</td>\n",
       "      <td>1.041828</td>\n",
       "    </tr>\n",
       "    <tr>\n",
       "      <th>1</th>\n",
       "      <td>polecam</td>\n",
       "      <td>[0.04798159, 0.0051619858, -0.12575705, 0.1069...</td>\n",
       "      <td>1</td>\n",
       "      <td>1</td>\n",
       "      <td>1.086629</td>\n",
       "      <td>1.086629</td>\n",
       "    </tr>\n",
       "    <tr>\n",
       "      <th>2</th>\n",
       "      <td>!</td>\n",
       "      <td>[0.03431077, 0.021837695, -0.06669262, 0.10739...</td>\n",
       "      <td>1</td>\n",
       "      <td>1</td>\n",
       "      <td>1.015320</td>\n",
       "      <td>1.015320</td>\n",
       "    </tr>\n",
       "    <tr>\n",
       "      <th>3</th>\n",
       "      <td>w</td>\n",
       "      <td>[-0.025471745, -0.12911007, -0.021408206, 0.05...</td>\n",
       "      <td>0</td>\n",
       "      <td>-1</td>\n",
       "      <td>0.944859</td>\n",
       "      <td>-0.944859</td>\n",
       "    </tr>\n",
       "    <tr>\n",
       "      <th>4</th>\n",
       "      <td>bardzo</td>\n",
       "      <td>[0.050388664, 0.011575964, -0.036678076, 0.028...</td>\n",
       "      <td>1</td>\n",
       "      <td>1</td>\n",
       "      <td>1.063653</td>\n",
       "      <td>1.063653</td>\n",
       "    </tr>\n",
       "    <tr>\n",
       "      <th>5</th>\n",
       "      <td>z</td>\n",
       "      <td>[0.05530669, 0.012952916, 0.045103725, 0.11280...</td>\n",
       "      <td>1</td>\n",
       "      <td>1</td>\n",
       "      <td>0.949565</td>\n",
       "      <td>0.949565</td>\n",
       "    </tr>\n",
       "    <tr>\n",
       "      <th>6</th>\n",
       "      <td>szybka</td>\n",
       "      <td>[0.044789746, -0.04665434, -0.084421426, 0.028...</td>\n",
       "      <td>1</td>\n",
       "      <td>1</td>\n",
       "      <td>1.060691</td>\n",
       "      <td>1.060691</td>\n",
       "    </tr>\n",
       "    <tr>\n",
       "      <th>7</th>\n",
       "      <td>szybko</td>\n",
       "      <td>[-0.008775887, -0.07522319, -0.05618389, -0.01...</td>\n",
       "      <td>1</td>\n",
       "      <td>1</td>\n",
       "      <td>0.975657</td>\n",
       "      <td>0.975657</td>\n",
       "    </tr>\n",
       "    <tr>\n",
       "      <th>8</th>\n",
       "      <td>sklep</td>\n",
       "      <td>[0.036473576, 0.004069177, 0.023201274, 0.0078...</td>\n",
       "      <td>1</td>\n",
       "      <td>1</td>\n",
       "      <td>1.028018</td>\n",
       "      <td>1.028018</td>\n",
       "    </tr>\n",
       "    <tr>\n",
       "      <th>9</th>\n",
       "      <td>na</td>\n",
       "      <td>[0.0146610895, -0.026710689, -0.06528084, 0.02...</td>\n",
       "      <td>0</td>\n",
       "      <td>-1</td>\n",
       "      <td>1.007754</td>\n",
       "      <td>-1.007754</td>\n",
       "    </tr>\n",
       "  </tbody>\n",
       "</table>\n",
       "</div>"
      ],
      "text/plain": [
       "     words                                            vectors  cluster  \\\n",
       "0        i  [0.104002856, -0.03994884, 0.12761831, 0.09229...        1   \n",
       "1  polecam  [0.04798159, 0.0051619858, -0.12575705, 0.1069...        1   \n",
       "2        !  [0.03431077, 0.021837695, -0.06669262, 0.10739...        1   \n",
       "3        w  [-0.025471745, -0.12911007, -0.021408206, 0.05...        0   \n",
       "4   bardzo  [0.050388664, 0.011575964, -0.036678076, 0.028...        1   \n",
       "5        z  [0.05530669, 0.012952916, 0.045103725, 0.11280...        1   \n",
       "6   szybka  [0.044789746, -0.04665434, -0.084421426, 0.028...        1   \n",
       "7   szybko  [-0.008775887, -0.07522319, -0.05618389, -0.01...        1   \n",
       "8    sklep  [0.036473576, 0.004069177, 0.023201274, 0.0078...        1   \n",
       "9       na  [0.0146610895, -0.026710689, -0.06528084, 0.02...        0   \n",
       "\n",
       "   cluster_value  closeness_score  sentiment_coeff  \n",
       "0              1         1.041828         1.041828  \n",
       "1              1         1.086629         1.086629  \n",
       "2              1         1.015320         1.015320  \n",
       "3             -1         0.944859        -0.944859  \n",
       "4              1         1.063653         1.063653  \n",
       "5              1         0.949565         0.949565  \n",
       "6              1         1.060691         1.060691  \n",
       "7              1         0.975657         0.975657  \n",
       "8              1         1.028018         1.028018  \n",
       "9             -1         1.007754        -1.007754  "
      ]
     },
     "execution_count": 8,
     "metadata": {},
     "output_type": "execute_result"
    }
   ],
   "source": [
    "words.head(10)"
   ]
  },
  {
   "cell_type": "code",
   "execution_count": 9,
   "metadata": {},
   "outputs": [],
   "source": [
    "words[['words', 'sentiment_coeff']].to_csv('sentiment_dictionary.csv', index=False)"
   ]
  }
 ],
 "metadata": {
  "kernelspec": {
   "display_name": "Python 3 (ipykernel)",
   "language": "python",
   "name": "python3"
  },
  "language_info": {
   "codemirror_mode": {
    "name": "ipython",
    "version": 3
   },
   "file_extension": ".py",
   "mimetype": "text/x-python",
   "name": "python",
   "nbconvert_exporter": "python",
   "pygments_lexer": "ipython3",
   "version": "3.9.13"
  }
 },
 "nbformat": 4,
 "nbformat_minor": 4
}
